{
  "nbformat": 4,
  "nbformat_minor": 0,
  "metadata": {
    "colab": {
      "name": "Sesión 2 - Python 101",
      "provenance": [],
      "private_outputs": true,
      "include_colab_link": true
    },
    "kernelspec": {
      "name": "python3",
      "display_name": "Python 3"
    }
  },
  "cells": [
    {
      "cell_type": "markdown",
      "metadata": {
        "id": "view-in-github",
        "colab_type": "text"
      },
      "source": [
        "<a href=\"https://colab.research.google.com/github/alexminmanzoolguin/practicaspython2020/blob/main/sesiones/sesion-02.ipynb\" target=\"_parent\"><img src=\"https://colab.research.google.com/assets/colab-badge.svg\" alt=\"Open In Colab\"/></a>"
      ]
    },
    {
      "cell_type": "markdown",
      "metadata": {
        "id": "EXCqS7CqJRRW"
      },
      "source": [
        "# Curso de introducción a Python\n",
        "\n",
        "Curso de introducción a la programación con Python para la comunidad de **Innovacción Virtual**.\n",
        "\n",
        "Código desarrollado y documentado por **Rodolfo Ferro**, Sherpa Digital de Innovación para Microsoft México y Google Developer Expert en Machine Learning.\n",
        "\n",
        "##### **Redes:**\n",
        "- GitHub: [RodolfoFerro](https://github.com/RodolfoFerro)\n",
        "- Twitter: [FerroRodolfo](https://twitter.com/FerroRodolfo)\n",
        "- Instagram: [rodo_ferro](https://instagram.com/rodo_ferro)\n"
      ]
    },
    {
      "cell_type": "markdown",
      "metadata": {
        "id": "FiOqemeWKj16"
      },
      "source": [
        "## Contenidos\n",
        "\n",
        "1. Listas y tuplas\n",
        "2. Condicionales (pt. II)\n",
        "3. Ciclos – `for`\n",
        "4. Funciones (pt. I)"
      ]
    },
    {
      "cell_type": "code",
      "metadata": {
        "id": "snB4ceRc6-aT"
      },
      "source": [
        "# Repaso\n",
        "\n",
        "nombre = \"Rodolfo\"\n",
        "edad = 27\n",
        "pi = 3.14159265358979\n",
        "\n",
        "print()\n",
        "\n",
        "if edad >= 18:\n",
        "    print(\"Eres mayor de edad.\")"
      ],
      "execution_count": null,
      "outputs": []
    },
    {
      "cell_type": "markdown",
      "metadata": {
        "id": "W7VCkdc7QBUR"
      },
      "source": [
        "## Listas y tuplas\n",
        "\n",
        "Una **colección** es un conjunto de elementos que se agrupan en una sola estructura de datos de Python. De manera nativa Python tiene soporte para:\n",
        "- Listas y tuplas\n",
        "- Diccionarios y conjuntos\n",
        "- ¿Otros?\n",
        "\n",
        "#### Ejemplo:\n",
        "\n",
        "```python\n",
        "my_list = [1.0, 2.0, 3.0]\n",
        "my_tuple = (1.0, 2.0, 3.0)\n",
        "my_dict = {\n",
        "    \"day\": 6,\n",
        "    \"month\": \"August\"\n",
        "}\n",
        "```\n",
        "\n",
        "- Las listas y tuplas tienen un índice asociado.\n",
        "- Las listas y tuplas tienen una longitud (número de elementos) asociado.\n",
        "- Se puede hacer slicing.\n",
        "\n"
      ]
    },
    {
      "cell_type": "code",
      "metadata": {
        "id": "QCM7kbwyNrqy"
      },
      "source": [
        "taquerias = [\n",
        "    \"Los Güeros\",       # 0\n",
        "    \"Veloz\",            # 1\n",
        "    \"Tacos Los Papis\",  # 2\n",
        "    \"Takesabroso\",      # 3\n",
        "    \"Takos El Rodo\"     # 4\n",
        "]"
      ],
      "execution_count": null,
      "outputs": []
    },
    {
      "cell_type": "code",
      "metadata": {
        "id": "QREhGsjA9Aqt"
      },
      "source": [
        "print(taquerias)"
      ],
      "execution_count": null,
      "outputs": []
    },
    {
      "cell_type": "code",
      "metadata": {
        "id": "LzQ7D4wZ9PFz"
      },
      "source": [
        "print(taquerias[0])\n",
        "print(taquerias[3])"
      ],
      "execution_count": null,
      "outputs": []
    },
    {
      "cell_type": "code",
      "metadata": {
        "id": "Rp64pMQ69w1R"
      },
      "source": [
        "# length\n",
        "print(len(taquerias))"
      ],
      "execution_count": null,
      "outputs": []
    },
    {
      "cell_type": "code",
      "metadata": {
        "id": "HR_jC-yA97Yk"
      },
      "source": [
        "print(taquerias[0])\n",
        "taquerias[0] = \"El Güero\"\n",
        "print(taquerias[0])"
      ],
      "execution_count": null,
      "outputs": []
    },
    {
      "cell_type": "code",
      "metadata": {
        "id": "qCgWlvuI-WT6"
      },
      "source": [
        "taquerias_t = (\n",
        "    \"Los Güeros\",       # 0\n",
        "    \"Veloz\",            # 1\n",
        "    \"Tacos Los Papis\",  # 2\n",
        "    \"Takesabroso\",      # 3\n",
        "    \"Takos El Rodo\"     # 4\n",
        ")\n",
        "\n",
        "print(taquerias_t[2])"
      ],
      "execution_count": null,
      "outputs": []
    },
    {
      "cell_type": "code",
      "metadata": {
        "id": "7ti4HzjY-mFX"
      },
      "source": [
        "# Una tupla es INMUTABLE\n",
        "print(taquerias_t[0])\n",
        "#taquerias_t[0] =\"El Güero\"\n",
        "print(taquerias_t[0])"
      ],
      "execution_count": null,
      "outputs": []
    },
    {
      "cell_type": "code",
      "metadata": {
        "id": "BgHBRt5j-2vo"
      },
      "source": [
        "# [inicio:fin - 1:salto] <-- Slicing!\n",
        "print(taquerias)\n",
        "print(taquerias[0:len(taquerias):2])\n",
        "print(taquerias[1:3 + 1])"
      ],
      "execution_count": null,
      "outputs": []
    },
    {
      "cell_type": "code",
      "metadata": {
        "id": "UuivbaQk_aDB"
      },
      "source": [
        "m = [\n",
        "    [1, 0, 0],\n",
        "    [0, 1, 0],\n",
        "    [0, 0, 1]\n",
        "]\n",
        "\n",
        "print(m)\n",
        "\n",
        "# Spoiler\n",
        "import numpy as np\n",
        "print(np.array(m))"
      ],
      "execution_count": null,
      "outputs": []
    },
    {
      "cell_type": "markdown",
      "metadata": {
        "id": "OrdDGy4yQ8zu"
      },
      "source": [
        "## Condicionales (pt. II)\n",
        "\n",
        "Los condicionales los utilizaremos para validar si se cumple una o más condiciones para ejecutar cierto bloque de código, **incluso para validar si algúin dato forma parte de una colección**.\n",
        "\n",
        "#### Ejemplo:\n",
        "\n",
        "```python\n",
        ">>> 1 in [1, 2, 3, 4, 5]\n",
        "```"
      ]
    },
    {
      "cell_type": "code",
      "metadata": {
        "id": "nLUAI6CnRO-j"
      },
      "source": [
        "print(taquerias) # Taquerías en León"
      ],
      "execution_count": null,
      "outputs": []
    },
    {
      "cell_type": "code",
      "metadata": {
        "id": "xN2YpDbfAJY_"
      },
      "source": [
        "\"Tacos el Inge\" in taquerias"
      ],
      "execution_count": null,
      "outputs": []
    },
    {
      "cell_type": "code",
      "metadata": {
        "id": "scFLiMR8AU1E"
      },
      "source": [
        "taqueria = \"Takos El Rodo\"\n",
        "\n",
        "if taqueria in taquerias:\n",
        "    print(\"Estás en León.\")\n",
        "else:\n",
        "    print(\"No sé ontas.\")"
      ],
      "execution_count": null,
      "outputs": []
    },
    {
      "cell_type": "code",
      "metadata": {
        "id": "4ZaWH2A7Az8x"
      },
      "source": [
        "print(taquerias[3])\n",
        "print(len(taquerias))\n",
        "print(taquerias[1])"
      ],
      "execution_count": null,
      "outputs": []
    },
    {
      "cell_type": "markdown",
      "metadata": {
        "id": "2G0WMrAdRTqv"
      },
      "source": [
        "## Ciclos – `for`\n",
        "\n",
        "Python tiene un ciclo basado en colecciones o en iteradores. Este tipo de ciclo itera sobre una colección de objetos, en lugar de especificar valores o condiciones numéricos, este ciclo se llama ciclo for.\n",
        "\n",
        "#### Sintaxis:\n",
        "\n",
        "```python\n",
        "for element in collection:\n",
        "    # Block of code that iterates over the collection\n",
        "```\n",
        "\n",
        "Ejemplo en lenguaje C:\n",
        "\n",
        "```c\n",
        "for (int i=0; i < 100; i++) {\n",
        "    // Ciclo\n",
        "}\n",
        "```"
      ]
    },
    {
      "cell_type": "code",
      "metadata": {
        "id": "J06Q2gccRhG7"
      },
      "source": [
        "print(taquerias)"
      ],
      "execution_count": null,
      "outputs": []
    },
    {
      "cell_type": "code",
      "metadata": {
        "id": "NBl4tuJQCgGV"
      },
      "source": [
        "for takeria in taquerias:\n",
        "    n_nombre = takeria.upper()\n",
        "    print(n_nombre)"
      ],
      "execution_count": null,
      "outputs": []
    },
    {
      "cell_type": "code",
      "metadata": {
        "id": "XpRDTjPUC7md"
      },
      "source": [
        "list(range(1, 11))"
      ],
      "execution_count": null,
      "outputs": []
    },
    {
      "cell_type": "code",
      "metadata": {
        "id": "mAOXi88LDX-k"
      },
      "source": [
        "for i in range(len(taquerias)):\n",
        "    print(taquerias[i])"
      ],
      "execution_count": null,
      "outputs": []
    },
    {
      "cell_type": "code",
      "metadata": {
        "id": "gAc0d-FZEbi_"
      },
      "source": [
        "alumnos = [\n",
        "    \"Alexis\",\n",
        "    \"Anneliesse\",\n",
        "    \"Anonymous\",\n",
        "    \"Rodo\"\n",
        "]"
      ],
      "execution_count": null,
      "outputs": []
    },
    {
      "cell_type": "code",
      "metadata": {
        "id": "iGy6yok9EbW_"
      },
      "source": [
        "for alumno in alumnos:\n",
        "    print(alumno)"
      ],
      "execution_count": null,
      "outputs": []
    },
    {
      "cell_type": "code",
      "metadata": {
        "id": "VaEhEJP-EuXd"
      },
      "source": [
        "print(alumnos)\n",
        "alumnos.append(\"Richard\")\n",
        "print(alumnos)"
      ],
      "execution_count": null,
      "outputs": []
    },
    {
      "cell_type": "code",
      "metadata": {
        "id": "zi4vhoRmFidH"
      },
      "source": [
        "for i in range(5):\n",
        "    print((i + 1) * \"*\")"
      ],
      "execution_count": null,
      "outputs": []
    },
    {
      "cell_type": "code",
      "metadata": {
        "id": "uE8vQV2JGD8x"
      },
      "source": [
        "perritoz = [\n",
        "    \"https://i.pinimg.com/originals/70/fa/97/70fa97bac09e524bae4c006a1ead5512.jpg\",\n",
        "    \"https://i.pinimg.com/originals/21/c1/13/21c113e05f1a219989a0b07a03b1577a.jpg\",\n",
        "    \"https://i.pinimg.com/originals/63/96/0c/63960c5db954115a0b5d8868c0c7e8a0.jpg\"\n",
        "]\n",
        "\n",
        "print(perritoz)"
      ],
      "execution_count": null,
      "outputs": []
    },
    {
      "cell_type": "code",
      "metadata": {
        "id": "ubOPDFFoGk0R"
      },
      "source": [
        "from IPython.display import Image\n",
        "\n",
        "Image(url=perritoz[2])"
      ],
      "execution_count": null,
      "outputs": []
    },
    {
      "cell_type": "markdown",
      "metadata": {
        "id": "AaF2EXewRjs6"
      },
      "source": [
        "## Funciones (pt. I)\n",
        "\n",
        "La manera en la que empaquetamos procesos que ejecutan un bloque completo de código es a través de funciones, la sintaxis de Python es muy sencilla y eficiente para escribir bloques de código de forma ordenada.\n",
        "\n",
        "La mayoría de los paquetes en Python están conformados por objetos y funciones.\n",
        "\n",
        "#### Sintaxis:\n",
        "\n",
        "```python\n",
        "def function_name(arguments):\n",
        "    # Block of code\n",
        "\t# Final block of code\n",
        "\treturn something\n",
        "```"
      ]
    },
    {
      "cell_type": "code",
      "metadata": {
        "id": "6MmuhsTiRwX7"
      },
      "source": [
        "def F(masa):\n",
        "    # 2da. Ley de Newton\n",
        "    # F = ma\n",
        "\n",
        "    a = 9.81\n",
        "    fuerza = masa * a\n",
        "    print(fuerza)"
      ],
      "execution_count": null,
      "outputs": []
    },
    {
      "cell_type": "code",
      "metadata": {
        "id": "Ahmzsem-IAnZ"
      },
      "source": [
        "F(80)\n",
        "F(56)\n",
        "F(67)"
      ],
      "execution_count": null,
      "outputs": []
    },
    {
      "cell_type": "code",
      "metadata": {
        "id": "v8ySAhYoIX-Z"
      },
      "source": [
        "def segunda_de_Newton(masa, aceleracion):\n",
        "    fuerza = masa * aceleracion\n",
        "    return fuerza"
      ],
      "execution_count": null,
      "outputs": []
    },
    {
      "cell_type": "code",
      "metadata": {
        "id": "Ki2qozmIInnN"
      },
      "source": [
        "print(\"Fuerza en la Tierra:\")\n",
        "print(segunda_de_Newton(50, 9.81))\n",
        "\n",
        "print(\"Fuerza en la Luna:\")\n",
        "print(segunda_de_Newton(50, 1.62))"
      ],
      "execution_count": null,
      "outputs": []
    },
    {
      "cell_type": "code",
      "metadata": {
        "id": "DF_xgRYiKbol"
      },
      "source": [
        "def segunda_de_Newton(masa, aceleracion, nombre_del_ente=\"planeta\"):\n",
        "    fuerza = masa * aceleracion\n",
        "    return -fuerza"
      ],
      "execution_count": null,
      "outputs": []
    },
    {
      "cell_type": "code",
      "metadata": {
        "id": "CXHmZkWiKfn-"
      },
      "source": [
        "print(\"Fuerza en la Tierra:\")\n",
        "print(segunda_de_Newton(50, 9.81))\n",
        "\n",
        "print(\"Fuerza en la Luna:\")\n",
        "print(segunda_de_Newton(50, 1.62))"
      ],
      "execution_count": null,
      "outputs": []
    },
    {
      "cell_type": "markdown",
      "metadata": {
        "id": "DEfBANaQLz8H"
      },
      "source": [
        "Ejemplo de variables locales/globales:\n"
      ]
    },
    {
      "cell_type": "code",
      "metadata": {
        "id": "IBmo07I8Kl5B"
      },
      "source": [
        "def F(masa, acel):\n",
        "    global taquerias\n",
        "    taquerias.append(\"Luna\")\n",
        "    f = masa*acel\n",
        "    return f"
      ],
      "execution_count": null,
      "outputs": []
    },
    {
      "cell_type": "code",
      "metadata": {
        "id": "K6Q_e2SsLJni"
      },
      "source": [
        "F(50, 9.81)"
      ],
      "execution_count": null,
      "outputs": []
    },
    {
      "cell_type": "code",
      "metadata": {
        "id": "onc-8f9cLaeM"
      },
      "source": [
        "print(taquerias)"
      ],
      "execution_count": null,
      "outputs": []
    }
  ]
}